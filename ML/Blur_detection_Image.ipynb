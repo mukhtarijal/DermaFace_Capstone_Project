{
  "nbformat": 4,
  "nbformat_minor": 0,
  "metadata": {
    "colab": {
      "provenance": []
    },
    "kernelspec": {
      "name": "python3",
      "display_name": "Python 3"
    },
    "language_info": {
      "name": "python"
    }
  },
  "cells": [
    {
      "cell_type": "code",
      "execution_count": null,
      "metadata": {
        "id": "6zuScy0g8bQ4"
      },
      "outputs": [],
      "source": [
        "from bs4 import BeautifulSoup\n",
        "import os\n",
        "import requests\n",
        "import io\n",
        "from PIL import Image"
      ]
    },
    {
      "cell_type": "markdown",
      "source": [
        "# Image blur detection usoing OpenCV Laplacian"
      ],
      "metadata": {
        "id": "EtA4Y_a2IvfE"
      }
    },
    {
      "cell_type": "code",
      "source": [
        "import cv2\n",
        "import numpy as np\n",
        "\n",
        "def load_image(image_path):\n",
        "    image = cv2.imread(image_path)\n",
        "    return image\n",
        "\n",
        "def convert_to_grayscale(image):\n",
        "    gray_image = cv2.cvtColor(image, cv2.COLOR_BGR2GRAY)\n",
        "    return gray_image\n",
        "\n",
        "def detect_blur_via_laplacian(image, threshold=100.0):\n",
        "    gray_image = convert_to_grayscale(image)\n",
        "    laplacian_var = cv2.Laplacian(gray_image, cv2.CV_64F).var()\n",
        "    return laplacian_var, laplacian_var < threshold\n",
        "\n",
        "def main(image_path):\n",
        "    image = load_image(image_path)\n",
        "    laplacian_var, is_blurred = detect_blur_via_laplacian(image)\n",
        "\n",
        "    if is_blurred:\n",
        "        print(f\"Gambar ini blur. (Laplacian Variance: {laplacian_var})\")\n",
        "    else:\n",
        "        print(f\"Gambar ini tidak blur. (Laplacian Variance: {laplacian_var})\")\n",
        "\n",
        "image_path = '/content/blurry.jpg'\n",
        "main(image_path)"
      ],
      "metadata": {
        "id": "c_JxqJ8K8lLC",
        "colab": {
          "base_uri": "https://localhost:8080/"
        },
        "outputId": "a6a60be6-959f-43e7-dd32-f543c857d4ea"
      },
      "execution_count": null,
      "outputs": [
        {
          "output_type": "stream",
          "name": "stdout",
          "text": [
            "The image is blurry. (Laplacian Variance: 10.579720167366)\n"
          ]
        }
      ]
    },
    {
      "cell_type": "markdown",
      "source": [
        "# Image blurr using laplacian manually"
      ],
      "metadata": {
        "id": "fgFbjSAFI28f"
      }
    },
    {
      "cell_type": "code",
      "source": [
        "from PIL import Image\n",
        "import numpy as np\n",
        "\n",
        "def apply_laplacian(image):\n",
        "\n",
        "    # Kernel laplacian untuk blurr\n",
        "    laplacian_kernel = np.array([[0, 1, 0],\n",
        "                                 [1, -4, 1],\n",
        "                                 [0, 1, 0]])\n",
        "\n",
        "    # Mengambil dimensi gambar\n",
        "    height, width = image.shape\n",
        "\n",
        "    # Membuat output gambar\n",
        "    laplacian_image = np.zeros_like(image)\n",
        "\n",
        "    # Melakukan operasi laplacian untuk setiap pixel\n",
        "    for i in range(1, height - 1):\n",
        "        for j in range(1, width - 1):\n",
        "            region = image[i - 1:i + 2, j - 1:j + 2]\n",
        "            laplacian_image[i, j] = np.sum(region * laplacian_kernel)\n",
        "\n",
        "    return laplacian_image\n",
        "\n",
        "def is_image_blurry(image_path, threshold=100.0):\n",
        "\n",
        "    # Mengambil gambar dan mengkonversi ke grayscale\n",
        "    image = Image.open(image_path).convert('L')\n",
        "    image_np = np.array(image, dtype=np.float64)\n",
        "\n",
        "    # Menerapkan fungsi apply_laplacian\n",
        "    laplacian_image = apply_laplacian(image_np)\n",
        "\n",
        "    # Menghitung variance laplacian\n",
        "    variance = np.var(laplacian_image)\n",
        "\n",
        "    # Mengecek apakah gambar terlalu blur sesuai dengan threshold\n",
        "    is_blurry = variance < threshold\n",
        "\n",
        "    return is_blurry, variance\n",
        "\n",
        "# Mendefiniskan gambar dan threshold\n",
        "image_path = '/content/WhatsApp Image 2024-06-02 at 01.34.58_67cec10b.jpg'\n",
        "threshold = 100.0\n",
        "\n",
        "blurry, variance = is_image_blurry(image_path, threshold)\n",
        "print(f\"Apakah gambar ini blur? {'Ya' if blurry else 'Tidak'}\")\n",
        "print(f\"Laplacian Variance: {variance}\")"
      ],
      "metadata": {
        "colab": {
          "base_uri": "https://localhost:8080/"
        },
        "id": "3abI5xmZDdOO",
        "outputId": "e5a828f1-940f-4b58-f51b-8c99a31ef33d"
      },
      "execution_count": null,
      "outputs": [
        {
          "output_type": "stream",
          "name": "stdout",
          "text": [
            "Apakah gambar ini blur? Ya\n",
            "Laplacian Variance: 32.7389019496699\n"
          ]
        }
      ]
    },
    {
      "cell_type": "code",
      "source": [],
      "metadata": {
        "id": "lqq9KQFtJTP9"
      },
      "execution_count": null,
      "outputs": []
    }
  ]
}